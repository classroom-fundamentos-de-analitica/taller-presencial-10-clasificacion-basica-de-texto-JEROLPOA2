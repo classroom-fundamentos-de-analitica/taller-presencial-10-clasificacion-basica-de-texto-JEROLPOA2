{
  "nbformat": 4,
  "nbformat_minor": 0,
  "metadata": {
    "colab": {
      "provenance": []
    },
    "kernelspec": {
      "name": "python3",
      "display_name": "Python 3"
    },
    "language_info": {
      "name": "python"
    }
  },
  "cells": [
    {
      "cell_type": "code",
      "execution_count": 2,
      "metadata": {
        "colab": {
          "base_uri": "https://localhost:8080/"
        },
        "id": "vawtOp2e5oGl",
        "outputId": "b485ccc3-0081-4475-b2f9-92f4ef667ef1"
      },
      "outputs": [
        {
          "output_type": "execute_result",
          "data": {
            "text/plain": [
              "(2264, 2)"
            ]
          },
          "metadata": {},
          "execution_count": 2
        }
      ],
      "source": [
        "import pandas as pd\n",
        "\n",
        "dataframe = pd.read_csv(\n",
        "    \"sentences.csv.zip\",\n",
        "    index_col=False,\n",
        "    compression=\"zip\",\n",
        ")\n",
        "\n",
        "dataframe.shape"
      ]
    },
    {
      "cell_type": "code",
      "source": [
        "#Exploracion\n",
        "\n",
        "dataframe.head()\n",
        "\n",
        "# Sentimientos (clases)\n",
        "print(dataframe.target.value_counts())\n",
        "print()\n",
        "# Ejemplos de frases positivas\n",
        "for i in range(5):\n",
        "    print(dataframe[dataframe.target == \"positive\"][\"phrase\"].iloc[i])\n",
        "\n",
        "print()\n",
        "# Ejemplos de frases negativas\n",
        "for i in range(5):\n",
        "    print(dataframe[dataframe.target == \"negative\"][\"phrase\"].iloc[i])\n",
        "\n",
        "print()\n",
        "# Ejemplos de frases neutras\n",
        "for i in range(5):\n",
        "    print(dataframe[dataframe.target == \"neutral\"][\"phrase\"].iloc[i])\n"
      ],
      "metadata": {
        "colab": {
          "base_uri": "https://localhost:8080/"
        },
        "id": "EhkgCF7S7cmz",
        "outputId": "9757ae2f-34ce-4001-c46c-1c8c9259729e"
      },
      "execution_count": 8,
      "outputs": [
        {
          "output_type": "stream",
          "name": "stdout",
          "text": [
            "target\n",
            "neutral     1391\n",
            "positive     570\n",
            "negative     303\n",
            "Name: count, dtype: int64\n",
            "\n",
            "For the last quarter of 2010 , Componenta 's net sales doubled to EUR131m from EUR76m for the same period a year earlier , while it moved to a zero pre-tax profit from a pre-tax loss of EUR7m \n",
            "In the third quarter of 2010 , net sales increased by 5.2 % to EUR 205.5 mn , and operating profit by 34.9 % to EUR 23.5 mn \n",
            "Operating profit rose to EUR 13.1 mn from EUR 8.7 mn in the corresponding period in 2007 representing 7.7 % of net sales \n",
            "Operating profit totalled EUR 21.1 mn , up from EUR 18.6 mn in 2007 , representing 9.7 % of net sales \n",
            "Finnish Talentum reports its operating profit increased to EUR 20.5 mn in 2005 from EUR 9.3 mn in 2004 , and net sales totaled EUR 103.3 mn , up from EUR 96.4 mn \n",
            "\n",
            "Jan. 6 -- Ford is struggling in the face of slowing truck and SUV sales and a surfeit of up-to-date , gotta-have cars \n",
            "Pharmaceuticals group Orion Corp reported a fall in its third-quarter earnings that were hit by larger expenditures on R&D and marketing \n",
            "However , the growth margin slowed down due to the financial crisis \n",
            "2009 3 February 2010 - Finland-based steel maker Rautaruukki Oyj ( HEL : RTRKS ) , or Ruukki , said today it slipped to a larger-than-expected pretax loss of EUR46m in the fourth quarter of 2009 from a year-earlier profit of EUR45m \n",
            "( ADPnews ) - Feb 3 , 2010 - Finland-based steel maker Rautaruukki Oyj ( HEL : RTRKS ) , or Ruukki , said today it slipped to a larger-than-expected pretax loss of EUR 46 million ( USD 64.5 m ) in the fourth quarter of 2009 from \n",
            "\n",
            "According to Gran , the company has no plans to move all production to Russia , although that is where the company is growing \n",
            "At the request of Finnish media company Alma Media 's newspapers , research manager Jari Kaivo-oja at the Finland Futures Research Centre at the Turku School of Economics has drawn up a future scenario for Finland 's national economy by using a model developed by the University of Denver \n",
            "STOCK EXCHANGE ANNOUNCEMENT 20 July 2006 1 ( 1 ) BASWARE SHARE SUBSCRIPTIONS WITH WARRANTS AND INCREASE IN SHARE CAPITAL A total of 119 850 shares have been subscribed with BasWare Warrant Program \n",
            "A maximum of 666,104 new shares can further be subscribed for by exercising B options under the 2004 stock option plan \n",
            "Tiimari operates 194 stores in six countries -- including its core Finnish market -- and generated a turnover of 76.5 mln eur in 2005 \n"
          ]
        }
      ]
    },
    {
      "cell_type": "code",
      "source": [
        "# Particionamiento de datos\n",
        "from sklearn.model_selection import train_test_split\n",
        "\n",
        "X_train, X_test, y_train, y_test = train_test_split(\n",
        "    dataframe.phrase,\n",
        "    dataframe.target,\n",
        "    test_size=0.3,\n",
        "    shuffle=False,\n",
        ")\n",
        "\n",
        "# Preprocesamiento de texto\n",
        "from sklearn.feature_extraction.text import CountVectorizer\n",
        "\n",
        "vectorizer = CountVectorizer(\n",
        "    lowercase=True,\n",
        "    analyzer=\"word\",\n",
        "    token_pattern=r\"\\b[a-zA-Z]\\w+\\b\",\n",
        "    stop_words=\"english\",\n",
        "    max_df=0.99,\n",
        "    min_df=2,\n",
        "    binary=True,\n",
        ")\n",
        "vectorizer.fit(X_train)"
      ],
      "metadata": {
        "colab": {
          "base_uri": "https://localhost:8080/",
          "height": 92
        },
        "id": "Nz0dcUxU8oGi",
        "outputId": "026fcb7a-2d9d-43f0-81dd-7727fcff7da9"
      },
      "execution_count": 10,
      "outputs": [
        {
          "output_type": "execute_result",
          "data": {
            "text/plain": [
              "CountVectorizer(binary=True, max_df=0.99, min_df=2, stop_words='english',\n",
              "                token_pattern='\\\\b[a-zA-Z]\\\\w+\\\\b')"
            ],
            "text/html": [
              "<style>#sk-container-id-1 {color: black;background-color: white;}#sk-container-id-1 pre{padding: 0;}#sk-container-id-1 div.sk-toggleable {background-color: white;}#sk-container-id-1 label.sk-toggleable__label {cursor: pointer;display: block;width: 100%;margin-bottom: 0;padding: 0.3em;box-sizing: border-box;text-align: center;}#sk-container-id-1 label.sk-toggleable__label-arrow:before {content: \"▸\";float: left;margin-right: 0.25em;color: #696969;}#sk-container-id-1 label.sk-toggleable__label-arrow:hover:before {color: black;}#sk-container-id-1 div.sk-estimator:hover label.sk-toggleable__label-arrow:before {color: black;}#sk-container-id-1 div.sk-toggleable__content {max-height: 0;max-width: 0;overflow: hidden;text-align: left;background-color: #f0f8ff;}#sk-container-id-1 div.sk-toggleable__content pre {margin: 0.2em;color: black;border-radius: 0.25em;background-color: #f0f8ff;}#sk-container-id-1 input.sk-toggleable__control:checked~div.sk-toggleable__content {max-height: 200px;max-width: 100%;overflow: auto;}#sk-container-id-1 input.sk-toggleable__control:checked~label.sk-toggleable__label-arrow:before {content: \"▾\";}#sk-container-id-1 div.sk-estimator input.sk-toggleable__control:checked~label.sk-toggleable__label {background-color: #d4ebff;}#sk-container-id-1 div.sk-label input.sk-toggleable__control:checked~label.sk-toggleable__label {background-color: #d4ebff;}#sk-container-id-1 input.sk-hidden--visually {border: 0;clip: rect(1px 1px 1px 1px);clip: rect(1px, 1px, 1px, 1px);height: 1px;margin: -1px;overflow: hidden;padding: 0;position: absolute;width: 1px;}#sk-container-id-1 div.sk-estimator {font-family: monospace;background-color: #f0f8ff;border: 1px dotted black;border-radius: 0.25em;box-sizing: border-box;margin-bottom: 0.5em;}#sk-container-id-1 div.sk-estimator:hover {background-color: #d4ebff;}#sk-container-id-1 div.sk-parallel-item::after {content: \"\";width: 100%;border-bottom: 1px solid gray;flex-grow: 1;}#sk-container-id-1 div.sk-label:hover label.sk-toggleable__label {background-color: #d4ebff;}#sk-container-id-1 div.sk-serial::before {content: \"\";position: absolute;border-left: 1px solid gray;box-sizing: border-box;top: 0;bottom: 0;left: 50%;z-index: 0;}#sk-container-id-1 div.sk-serial {display: flex;flex-direction: column;align-items: center;background-color: white;padding-right: 0.2em;padding-left: 0.2em;position: relative;}#sk-container-id-1 div.sk-item {position: relative;z-index: 1;}#sk-container-id-1 div.sk-parallel {display: flex;align-items: stretch;justify-content: center;background-color: white;position: relative;}#sk-container-id-1 div.sk-item::before, #sk-container-id-1 div.sk-parallel-item::before {content: \"\";position: absolute;border-left: 1px solid gray;box-sizing: border-box;top: 0;bottom: 0;left: 50%;z-index: -1;}#sk-container-id-1 div.sk-parallel-item {display: flex;flex-direction: column;z-index: 1;position: relative;background-color: white;}#sk-container-id-1 div.sk-parallel-item:first-child::after {align-self: flex-end;width: 50%;}#sk-container-id-1 div.sk-parallel-item:last-child::after {align-self: flex-start;width: 50%;}#sk-container-id-1 div.sk-parallel-item:only-child::after {width: 0;}#sk-container-id-1 div.sk-dashed-wrapped {border: 1px dashed gray;margin: 0 0.4em 0.5em 0.4em;box-sizing: border-box;padding-bottom: 0.4em;background-color: white;}#sk-container-id-1 div.sk-label label {font-family: monospace;font-weight: bold;display: inline-block;line-height: 1.2em;}#sk-container-id-1 div.sk-label-container {text-align: center;}#sk-container-id-1 div.sk-container {/* jupyter's `normalize.less` sets `[hidden] { display: none; }` but bootstrap.min.css set `[hidden] { display: none !important; }` so we also need the `!important` here to be able to override the default hidden behavior on the sphinx rendered scikit-learn.org. See: https://github.com/scikit-learn/scikit-learn/issues/21755 */display: inline-block !important;position: relative;}#sk-container-id-1 div.sk-text-repr-fallback {display: none;}</style><div id=\"sk-container-id-1\" class=\"sk-top-container\"><div class=\"sk-text-repr-fallback\"><pre>CountVectorizer(binary=True, max_df=0.99, min_df=2, stop_words=&#x27;english&#x27;,\n",
              "                token_pattern=&#x27;\\\\b[a-zA-Z]\\\\w+\\\\b&#x27;)</pre><b>In a Jupyter environment, please rerun this cell to show the HTML representation or trust the notebook. <br />On GitHub, the HTML representation is unable to render, please try loading this page with nbviewer.org.</b></div><div class=\"sk-container\" hidden><div class=\"sk-item\"><div class=\"sk-estimator sk-toggleable\"><input class=\"sk-toggleable__control sk-hidden--visually\" id=\"sk-estimator-id-1\" type=\"checkbox\" checked><label for=\"sk-estimator-id-1\" class=\"sk-toggleable__label sk-toggleable__label-arrow\">CountVectorizer</label><div class=\"sk-toggleable__content\"><pre>CountVectorizer(binary=True, max_df=0.99, min_df=2, stop_words=&#x27;english&#x27;,\n",
              "                token_pattern=&#x27;\\\\b[a-zA-Z]\\\\w+\\\\b&#x27;)</pre></div></div></div></div></div>"
            ]
          },
          "metadata": {},
          "execution_count": 10
        }
      ]
    },
    {
      "cell_type": "code",
      "source": [
        "# Columnas de la matriz documento-termino\n",
        "vectorizer.get_feature_names_out()"
      ],
      "metadata": {
        "colab": {
          "base_uri": "https://localhost:8080/"
        },
        "id": "yK91x7VZ_X9l",
        "outputId": "e782469d-d261-41a1-b268-7236f8b80c81"
      },
      "execution_count": 11,
      "outputs": [
        {
          "output_type": "execute_result",
          "data": {
            "text/plain": [
              "array(['ab', 'able', 'abp', ..., 'years', 'yesterday', 'yit'],\n",
              "      dtype=object)"
            ]
          },
          "metadata": {},
          "execution_count": 11
        }
      ]
    },
    {
      "cell_type": "code",
      "source": [
        "# Especificación del model\n",
        "from sklearn.linear_model import LogisticRegression\n",
        "\n",
        "clf = LogisticRegression(max_iter=1000)\n",
        "clf\n",
        "\n",
        "\n",
        "# Entrenamiento del modelo\n",
        "X_train_vectorized = vectorizer.transform(X_train)\n",
        "\n",
        "clf.fit(\n",
        "    X_train_vectorized,\n",
        "    y_train,\n",
        ")\n",
        "\n",
        "\n",
        "# Evaluación de la precisión del modelo\n",
        "from sklearn.metrics import accuracy_score\n",
        "\n",
        "\n",
        "# Muestra de entrenamiento\n",
        "accuracy_score(\n",
        "    y_true=y_train,\n",
        "    y_pred=clf.predict(X_train_vectorized),\n",
        ")\n",
        "\n",
        "\n",
        "\n",
        "# Muestra de prueba\n",
        "X_test_vectorized = vectorizer.transform(X_test)\n",
        "predictions = clf.predict(X_test_vectorized)\n",
        "\n",
        "accuracy_score(\n",
        "    y_true=y_test,\n",
        "    y_pred=predictions,\n",
        ")\n"
      ],
      "metadata": {
        "colab": {
          "base_uri": "https://localhost:8080/"
        },
        "id": "UEhwAwODA1Fr",
        "outputId": "c97b6415-8c9e-4edd-d653-45d871fce152"
      },
      "execution_count": 12,
      "outputs": [
        {
          "output_type": "execute_result",
          "data": {
            "text/plain": [
              "0.5323529411764706"
            ]
          },
          "metadata": {},
          "execution_count": 12
        }
      ]
    },
    {
      "cell_type": "code",
      "source": [
        "# Matriz de confusión\n",
        "from sklearn.metrics import ConfusionMatrixDisplay\n",
        "\n",
        "disp = ConfusionMatrixDisplay.from_predictions(\n",
        "    y_test,\n",
        "    predictions,\n",
        "    cmap=\"Greens\",\n",
        ")\n",
        "disp.figure_.suptitle(\"Confusion Matrix\")\n",
        "print(f\"Confusion matrix:\\n{disp.confusion_matrix}\")\n"
      ],
      "metadata": {
        "colab": {
          "base_uri": "https://localhost:8080/",
          "height": 571
        },
        "id": "qroLqHWkBuXy",
        "outputId": "45f69d40-34bf-417c-f6cb-42afa8f295be"
      },
      "execution_count": 13,
      "outputs": [
        {
          "output_type": "stream",
          "name": "stdout",
          "text": [
            "Confusion matrix:\n",
            "[[  2  78 189]\n",
            " [  0 344  39]\n",
            " [  0  12  16]]\n"
          ]
        },
        {
          "output_type": "display_data",
          "data": {
            "text/plain": [
              "<Figure size 640x480 with 2 Axes>"
            ],
            "image/png": "[encoded data removed]"
          },
          "metadata": {}
        }
      ]
    },
    {
      "cell_type": "code",
      "source": [
        "# Almacenamiento del modelo\n",
        "\n",
        "import pickle\n",
        "\n",
        "with open(\"clf.pickle\", \"wb\") as file:\n",
        "    pickle.dump(clf, file)\n",
        "\n",
        "with open(\"vectorizer.pickle\", \"wb\") as file:\n",
        "    pickle.dump(vectorizer, file)"
      ],
      "metadata": {
        "id": "NFRwjiS8CGkn"
      },
      "execution_count": 14,
      "outputs": []
    },
    {
      "cell_type": "code",
      "source": [
        "#Uso del modelo\n",
        "\n",
        "with open(\"clf.pickle\", \"rb\") as file:\n",
        "    new_clf = pickle.load(file)\n",
        "\n",
        "with open(\"vectorizer.pickle\", \"rb\") as file:\n",
        "    new_vectorizer = pickle.load(file)\n",
        "\n",
        "accuracy_score(\n",
        "    y_true=dataframe.target,\n",
        "    y_pred=new_clf.predict(new_vectorizer.transform(dataframe.phrase)),\n",
        ")\n"
      ],
      "metadata": {
        "colab": {
          "base_uri": "https://localhost:8080/"
        },
        "id": "3_DZrCWACLVa",
        "outputId": "e9df8cc6-9e85-4cea-e4f6-565087137440"
      },
      "execution_count": 15,
      "outputs": [
        {
          "output_type": "execute_result",
          "data": {
            "text/plain": [
              "0.8542402826855123"
            ]
          },
          "metadata": {},
          "execution_count": 15
        }
      ]
    }
  ]
}